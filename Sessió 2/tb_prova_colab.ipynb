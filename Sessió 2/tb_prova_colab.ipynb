{
  "nbformat": 4,
  "nbformat_minor": 0,
  "metadata": {
    "colab": {
      "name": "tb_prova_colab.ipynb",
      "provenance": [],
      "collapsed_sections": []
    },
    "kernelspec": {
      "name": "python3",
      "display_name": "Python 3"
    }
  },
  "cells": [
    {
      "cell_type": "markdown",
      "metadata": {
        "id": "TuqikugP8ZCi",
        "colab_type": "text"
      },
      "source": [
        "Llibreries"
      ]
    },
    {
      "cell_type": "code",
      "metadata": {
        "id": "n8Uw_jCU8LJP",
        "colab_type": "code",
        "colab": {}
      },
      "source": [
        "import numpy as np\n",
        "import matplotlib.pyplot as plt\n",
        "import sklearn.preprocessing\n",
        "import matplotlib\n",
        "import os\n",
        "import zipfile\n",
        "from PIL import Image"
      ],
      "execution_count": 0,
      "outputs": []
    },
    {
      "cell_type": "markdown",
      "metadata": {
        "id": "H4jCVBkV8d2z",
        "colab_type": "text"
      },
      "source": [
        "Descarregar dades desde github"
      ]
    },
    {
      "cell_type": "code",
      "metadata": {
        "id": "Diwaf5Dx8Q47",
        "colab_type": "code",
        "outputId": "f9c90196-333a-4dfc-fbcc-7aa539c30be0",
        "colab": {
          "base_uri": "https://localhost:8080/",
          "height": 305
        }
      },
      "source": [
        "!wget \"https://github.com/gdsa-upc/2019-Equip1/raw/master/Dades_tb2018/tb2018_10imatges.zip\" -O Dades_prova.zip"
      ],
      "execution_count": 0,
      "outputs": [
        {
          "output_type": "stream",
          "text": [
            "--2019-11-28 11:09:54--  https://github.com/gdsa-upc/2019-Equip1/raw/master/Dades_tb2018/tb2018_10imatges.zip\n",
            "Resolving github.com (github.com)... 192.30.255.112\n",
            "Connecting to github.com (github.com)|192.30.255.112|:443... connected.\n",
            "HTTP request sent, awaiting response... 302 Found\n",
            "Location: https://raw.githubusercontent.com/gdsa-upc/2019-Equip1/master/Dades_tb2018/tb2018_10imatges.zip [following]\n",
            "--2019-11-28 11:09:54--  https://raw.githubusercontent.com/gdsa-upc/2019-Equip1/master/Dades_tb2018/tb2018_10imatges.zip\n",
            "Resolving raw.githubusercontent.com (raw.githubusercontent.com)... 151.101.0.133, 151.101.64.133, 151.101.128.133, ...\n",
            "Connecting to raw.githubusercontent.com (raw.githubusercontent.com)|151.101.0.133|:443... connected.\n",
            "HTTP request sent, awaiting response... 200 OK\n",
            "Length: 15118 (15K) [application/zip]\n",
            "Saving to: ‘Dades_prova.zip’\n",
            "\n",
            "\rDades_prova.zip       0%[                    ]       0  --.-KB/s               \rDades_prova.zip     100%[===================>]  14.76K  --.-KB/s    in 0.007s  \n",
            "\n",
            "2019-11-28 11:09:54 (2.19 MB/s) - ‘Dades_prova.zip’ saved [15118/15118]\n",
            "\n"
          ],
          "name": "stdout"
        }
      ]
    },
    {
      "cell_type": "markdown",
      "metadata": {
        "id": "wdMvigm78wpj",
        "colab_type": "text"
      },
      "source": [
        "Extraer el zip "
      ]
    },
    {
      "cell_type": "code",
      "metadata": {
        "id": "xLpLqGja8TU5",
        "colab_type": "code",
        "colab": {}
      },
      "source": [
        "f = zipfile.ZipFile(\"Dades_prova.zip\",'r')\n",
        "for file in f.namelist():\n",
        "    f.extract(file,\"./Dades_prova/\")  # Guardar en el directori /Dades_prova/\n",
        "f.close()"
      ],
      "execution_count": 0,
      "outputs": []
    },
    {
      "cell_type": "markdown",
      "metadata": {
        "id": "49UQdMRZ9Lq6",
        "colab_type": "text"
      },
      "source": [
        "Carregar les imatges"
      ]
    },
    {
      "cell_type": "code",
      "metadata": {
        "id": "0lbOk6YB8UwZ",
        "colab_type": "code",
        "colab": {}
      },
      "source": [
        "from os.path import isfile, join\n",
        "\n",
        "# Obtener tots els fitxers a la carpeta TRAIN  \n",
        "files_train = [f for f in os.listdir(\"./Dades_prova/train\") if isfile(join(\"./Dades_prova/train\", f))]\n",
        "# Guardar imatges de train en una matriu\n",
        "x_train = np.array([np.array(Image.open(\"./Dades_prova/train/\"+file)) for file in files_train])\n",
        "\n",
        "# Obtener tots els fitxers a la carpeta TEST\n",
        "files_test = [f for f in os.listdir(\"./Dades_prova/test\") if isfile(join(\"./Dades_prova/test\", f))]\n",
        "# Guardar imatges de test en una matriu\n",
        "x_test = np.array([np.array(Image.open(\"./Dades_prova/test/\"+file)) for file in files_test])"
      ],
      "execution_count": 0,
      "outputs": []
    },
    {
      "cell_type": "markdown",
      "metadata": {
        "id": "YWAAENe_9SJ6",
        "colab_type": "text"
      },
      "source": [
        "Visualitzem una imatge"
      ]
    },
    {
      "cell_type": "code",
      "metadata": {
        "id": "8M8gNhik8XOQ",
        "colab_type": "code",
        "outputId": "759a3db2-dd8c-48d1-b682-16429d5e1963",
        "colab": {
          "base_uri": "https://localhost:8080/",
          "height": 283
        }
      },
      "source": [
        "plt.imshow(x_train[1,:,:], cmap='gray')"
      ],
      "execution_count": 0,
      "outputs": [
        {
          "output_type": "execute_result",
          "data": {
            "text/plain": [
              "<matplotlib.image.AxesImage at 0x7f8a865baac8>"
            ]
          },
          "metadata": {
            "tags": []
          },
          "execution_count": 5
        },
        {
          "output_type": "display_data",
          "data": {
            "image/png": "[encoded data removed]",
            "text/plain": [
              "<Figure size 432x288 with 1 Axes>"
            ]
          },
          "metadata": {
            "tags": []
          }
        }
      ]
    },
    {
      "cell_type": "code",
      "metadata": {
        "id": "PYNXlqqp9Vbp",
        "colab_type": "code",
        "outputId": "3a606c66-3fc2-4d73-c4b0-8fe04ae80571",
        "colab": {
          "base_uri": "https://localhost:8080/",
          "height": 283
        }
      },
      "source": [
        "plt.imshow(x_test[1,:,:], cmap='gray')"
      ],
      "execution_count": 0,
      "outputs": [
        {
          "output_type": "execute_result",
          "data": {
            "text/plain": [
              "<matplotlib.image.AxesImage at 0x7f8a8610f278>"
            ]
          },
          "metadata": {
            "tags": []
          },
          "execution_count": 6
        },
        {
          "output_type": "display_data",
          "data": {
            "image/png": "[encoded data removed]",
            "text/plain": [
              "<Figure size 432x288 with 1 Axes>"
            ]
          },
          "metadata": {
            "tags": []
          }
        }
      ]
    },
    {
      "cell_type": "markdown",
      "metadata": {
        "id": "mIeaPIOg9Y8y",
        "colab_type": "text"
      },
      "source": [
        "Mostrar el nombre total de imatges i la mida de una imatge"
      ]
    },
    {
      "cell_type": "code",
      "metadata": {
        "id": "i3KNGmlq9YXB",
        "colab_type": "code",
        "outputId": "5f9a3442-6fc4-4518-ba8c-f56a72c7ff57",
        "colab": {
          "base_uri": "https://localhost:8080/",
          "height": 53
        }
      },
      "source": [
        "print(\"x_train shape:\", x_train.shape) \n",
        "print(\"x_test shape:\", x_test.shape)"
      ],
      "execution_count": 0,
      "outputs": [
        {
          "output_type": "stream",
          "text": [
            "x_train shape: (10, 28, 28)\n",
            "x_test shape: (10, 28, 28)\n"
          ],
          "name": "stdout"
        }
      ]
    },
    {
      "cell_type": "code",
      "metadata": {
        "id": "0muTQjFe9fbh",
        "colab_type": "code",
        "colab": {}
      },
      "source": [
        "Num_train = len(x_train[:,1,1])     # Nombre total de les imatges\n",
        "dimx_train = len(x_train[1,:,1])    # Altura de imatge\n",
        "dimy_train = len(x_train[1,1,:])    # Amplada de imatge\n",
        "\n",
        "Num_test = len(x_test[:,1,1])\n",
        "dimx_test = len(x_test[1,:,1])\n",
        "dimy_test = len(x_test[1,1,:])"
      ],
      "execution_count": 0,
      "outputs": []
    },
    {
      "cell_type": "markdown",
      "metadata": {
        "id": "IvQjydvJ9mJ6",
        "colab_type": "text"
      },
      "source": [
        "Extracció de descriptors"
      ]
    },
    {
      "cell_type": "code",
      "metadata": {
        "id": "RyHyFcve9jIq",
        "colab_type": "code",
        "outputId": "3fd4ed54-6385-40ef-bbe7-dfe3c8a7e0d9",
        "colab": {
          "base_uri": "https://localhost:8080/",
          "height": 53
        }
      },
      "source": [
        "x_train = x_train.reshape(Num_train, dimx_train*dimy_train);\n",
        "print(\"x_train shape:\", x_train.shape) \n",
        "x_test = x_test.reshape(Num_test, dimx_test*dimy_test);\n",
        "print(\"x_test shape:\", x_test.shape)\n"
      ],
      "execution_count": 0,
      "outputs": [
        {
          "output_type": "stream",
          "text": [
            "x_train shape: (10, 784)\n",
            "x_test shape: (10, 784)\n"
          ],
          "name": "stdout"
        }
      ]
    },
    {
      "cell_type": "markdown",
      "metadata": {
        "id": "r4plPaa79ouR",
        "colab_type": "text"
      },
      "source": [
        "Normalització de descriptors"
      ]
    },
    {
      "cell_type": "code",
      "metadata": {
        "id": "VsWhrWCP9rWS",
        "colab_type": "code",
        "colab": {}
      },
      "source": [
        "x_train_n = sklearn.preprocessing.normalize(x_train)\n",
        "x_test_n = sklearn.preprocessing.normalize(x_test)"
      ],
      "execution_count": 0,
      "outputs": []
    },
    {
      "cell_type": "markdown",
      "metadata": {
        "id": "vhConN3s9uPp",
        "colab_type": "text"
      },
      "source": [
        "Calculem similituds"
      ]
    },
    {
      "cell_type": "code",
      "metadata": {
        "id": "lxV-8hDc9um5",
        "colab_type": "code",
        "colab": {}
      },
      "source": [
        "x_train_n = x_train_n.transpose()\n",
        "sim = np.matmul(x_test_n, x_train_n)"
      ],
      "execution_count": 0,
      "outputs": []
    },
    {
      "cell_type": "code",
      "metadata": {
        "id": "r41nd52v9xny",
        "colab_type": "code",
        "outputId": "29ab2c6c-832e-440e-c471-fb48fa51452a",
        "colab": {
          "base_uri": "https://localhost:8080/",
          "height": 395
        }
      },
      "source": [
        "print(sim)\n",
        "print(\"sim shape:\", sim.shape)"
      ],
      "execution_count": 0,
      "outputs": [
        {
          "output_type": "stream",
          "text": [
            "[[0.74979543 0.83388065 0.90975329 0.75080769 0.86483025 0.63314037\n",
            "  0.89130648 0.80367102 0.62502844 0.83628012]\n",
            " [0.58593516 0.69023594 0.67732294 0.67424079 0.65863122 0.60536654\n",
            "  0.58364935 0.67496057 0.38799913 0.59664397]\n",
            " [0.79076212 0.77671929 0.79600029 0.68581257 0.86239185 0.71607261\n",
            "  0.78794282 0.77206252 0.73188802 0.82794836]\n",
            " [0.74689527 0.80960126 0.90436128 0.7123364  0.82911142 0.58713544\n",
            "  0.91393929 0.79972729 0.60752413 0.82140294]\n",
            " [0.73584878 0.85877633 0.86613389 0.69989783 0.8441967  0.58881158\n",
            "  0.85868679 0.82709928 0.67559158 0.86781178]\n",
            " [0.67761297 0.75371512 0.80452889 0.61649386 0.77705566 0.60155442\n",
            "  0.79341303 0.75869574 0.60267698 0.78076654]\n",
            " [0.66714971 0.30261747 0.58394467 0.61561478 0.55190788 0.67159052\n",
            "  0.56378699 0.47050287 0.38081937 0.38211212]\n",
            " [0.7589178  0.64580745 0.78090918 0.83776717 0.74566486 0.63197008\n",
            "  0.70012458 0.71169065 0.57282119 0.61822008]\n",
            " [0.84231895 0.6636373  0.72230892 0.70395584 0.77288551 0.81912886\n",
            "  0.68311959 0.71654317 0.65437837 0.73115511]\n",
            " [0.76179658 0.84174228 0.83752298 0.75503125 0.81100062 0.69968723\n",
            "  0.80664065 0.81565206 0.53369525 0.83482812]]\n",
            "sim shape: (10, 10)\n"
          ],
          "name": "stdout"
        }
      ]
    },
    {
      "cell_type": "markdown",
      "metadata": {
        "id": "TSvlVUIk9zIi",
        "colab_type": "text"
      },
      "source": [
        "Ordenem els valors"
      ]
    },
    {
      "cell_type": "code",
      "metadata": {
        "id": "RGe-DHbN90Li",
        "colab_type": "code",
        "colab": {}
      },
      "source": [
        "ranks = np.argsort(sim, axis=1)[:,::-1]"
      ],
      "execution_count": 0,
      "outputs": []
    },
    {
      "cell_type": "markdown",
      "metadata": {
        "id": "W5tP24OM938K",
        "colab_type": "text"
      },
      "source": [
        "Visualització de resultats"
      ]
    },
    {
      "cell_type": "code",
      "metadata": {
        "id": "OJ4BX3x695NC",
        "colab_type": "code",
        "outputId": "4a70e00f-a964-4965-84eb-78af74aa6eb3",
        "colab": {
          "base_uri": "https://localhost:8080/",
          "height": 248
        }
      },
      "source": [
        "from PIL import Image, ImageOps\n",
        "\n",
        "# get the original images for visualization\n",
        "x_train = np.reshape(x_train, (Num_train, dimx_train, dimy_train))\n",
        "x_test = np.reshape(x_test, (Num_test, dimx_test, dimy_test))\n",
        "\n",
        "h,w = (28, 28)\n",
        "new_image= Image.new('RGB', (h*5,w*5))\n",
        "\n",
        "# Visualize ranks of the 10 queries\n",
        "offset = 0 # it will show results from query #'offset' to #offset+10\n",
        "for q in range(5):\n",
        "  ranks_q = ranks[q*(offset+1),:]\n",
        "  for i in range(5):\n",
        "      new_image.paste( Image.fromarray(x_train[ranks_q[i]]), (h*(1+i),w*q ))\n",
        "\n",
        "  # visualize query\n",
        "  ima_q = Image.fromarray(x_test[q*(offset+1),...])\n",
        "  ima_q = ImageOps.expand(ima_q, border=3, fill='green')\n",
        "\n",
        "  new_image.paste(ima_q, (0,w*q))\n",
        "\n",
        "plt.imshow(new_image)\n",
        "plt.axis('off')\n",
        "plt.show()"
      ],
      "execution_count": 0,
      "outputs": [
        {
          "output_type": "display_data",
          "data": {
            "image/png": "[encoded data removed]",
            "text/plain": [
              "<Figure size 432x288 with 1 Axes>"
            ]
          },
          "metadata": {
            "tags": []
          }
        }
      ]
    }
  ]
}