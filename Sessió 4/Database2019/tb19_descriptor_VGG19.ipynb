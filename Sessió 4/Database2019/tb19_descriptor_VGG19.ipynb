{
 "cells": [
  {
   "cell_type": "code",
   "execution_count": 1,
   "outputs": [
    {
     "name": "stderr",
     "text": [
      "Using TensorFlow backend.\n"
     ],
     "output_type": "stream"
    }
   ],
   "source": [
    "import keras\n",
    "import os\n",
    "from sklearn import preprocessing\n",
    "import sklearn.preprocessing\n",
    "import numpy as np\n",
    "#from os import walk\n",
    "#from array import *\n",
    "import matplotlib.pyplot as plt\n",
    "from keras.models import Model\n",
    "from keras.preprocessing import image\n",
    "from keras.applications.vgg19 import VGG19\n",
    "from keras.applications.vgg19 import preprocess_input\n",
    "from PIL import Image, ImageOps\n",
    "import pickle"
   ],
   "metadata": {
    "collapsed": false,
    "pycharm": {
     "name": "#%% \n",
     "is_executing": false
    }
   }
  },
  {
   "cell_type": "code",
   "execution_count": 2,
   "outputs": [],
   "source": [
    "# Carregar el directori de dades\n",
    "\n",
    "path =\"X:/tb_2019\"\n",
    "from os.path import isfile, join"
   ],
   "metadata": {
    "collapsed": false,
    "pycharm": {
     "name": "#%% \n",
     "is_executing": false
    }
   }
  },
  {
   "cell_type": "code",
   "execution_count": 3,
   "outputs": [],
   "source": [
    "base_model = VGG19(weights='imagenet')"
   ],
   "metadata": {
    "collapsed": false,
    "pycharm": {
     "name": "#%%\n",
     "is_executing": false
    }
   }
  },
  {
   "cell_type": "code",
   "execution_count": 4,
   "outputs": [],
   "source": [
    "model = Model(inputs=base_model.input, outputs=base_model.get_layer('fc2').output)"
   ],
   "metadata": {
    "collapsed": false,
    "pycharm": {
     "name": "#%%\n",
     "is_executing": false
    }
   }
  },
  {
   "cell_type": "code",
   "execution_count": 5,
   "outputs": [],
   "source": [
    "readfile = os.path.join(path+\"/val/\",'annotation.txt')"
   ],
   "metadata": {
    "collapsed": false,
    "pycharm": {
     "name": "#%%\n",
     "is_executing": false
    }
   }
  },
  {
   "cell_type": "code",
   "execution_count": 6,
   "outputs": [],
   "source": [
    "image_list = []\n",
    "labels = []\n",
    "f = open(readfile, 'r')\n",
    "for line in f:\n",
    "    image_lis, label = line[:-1].split('\\t')\n",
    "    image_list.append(image_lis)\n",
    "    labels.append(label)\n",
    "f.close()"
   ],
   "metadata": {
    "collapsed": false,
    "pycharm": {
     "name": "#%%\n",
     "is_executing": false
    }
   }
  },
  {
   "cell_type": "code",
   "execution_count": 7,
   "outputs": [],
   "source": [
    "image_list.pop(0)\n",
    "labels.pop(0)\n",
    "dic = {}"
   ],
   "metadata": {
    "collapsed": false,
    "pycharm": {
     "name": "#%%\n",
     "is_executing": false
    }
   }
  },
  {
   "cell_type": "code",
   "execution_count": 8,
   "outputs": [],
   "source": [
    "for i in range(len(image_list)): \n",
    "    dic[image_list[i]] = labels[i]"
   ],
   "metadata": {
    "collapsed": false,
    "pycharm": {
     "name": "#%%\n",
     "is_executing": false
    }
   }
  },
  {
   "cell_type": "code",
   "execution_count": 9,
   "outputs": [],
   "source": [
    "image_list.sort()"
   ],
   "metadata": {
    "collapsed": false,
    "pycharm": {
     "name": "#%%\n",
     "is_executing": false
    }
   }
  },
  {
   "cell_type": "code",
   "execution_count": 10,
   "outputs": [],
   "source": [
    "dic_val = {}\n",
    "k = 0\n",
    "for k in range(len(image_list)): \n",
    "    dic_val[k] = dic[image_list[k]]"
   ],
   "metadata": {
    "collapsed": false,
    "pycharm": {
     "name": "#%%\n",
     "is_executing": false
    }
   }
  },
  {
   "cell_type": "code",
   "execution_count": 11,
   "outputs": [],
   "source": [
    "relevantes = {}\n",
    "for top in range(len(image_list)):\n",
    "    if relevantes.get(labels[top]):\n",
    "        relevantes[labels[top]]=relevantes[labels[top]]+1\n",
    "    else: \n",
    "        relevantes[labels[top]] =1"
   ],
   "metadata": {
    "collapsed": false,
    "pycharm": {
     "name": "#%%\n",
     "is_executing": false
    }
   }
  },
  {
   "cell_type": "code",
   "execution_count": 12,
   "outputs": [],
   "source": [
    "lista = []\n",
    "for image_name in image_list:\n",
    "\n",
    "        # Read image\n",
    "        lista.append(os.path.join(path+\"/val/\",image_name.rstrip()+'.jpg'))"
   ],
   "metadata": {
    "collapsed": false,
    "pycharm": {
     "name": "#%%\n",
     "is_executing": false
    }
   }
  },
  {
   "cell_type": "code",
   "execution_count": 13,
   "outputs": [],
   "source": [
    "i=1\n",
    "imagen = []\n",
    "final = []\n",
    "for i in range(len(image_list)):   \n",
    "    imagen.append(image.load_img(lista[i], target_size=(224, 224)))\n",
    "    final.append(image.img_to_array(imagen[i]))\n",
    "    final[i] = np.expand_dims(final[i], axis=0)\n",
    "    final[i] = preprocess_input(final[i])"
   ],
   "metadata": {
    "collapsed": false,
    "pycharm": {
     "name": "#%%\n",
     "is_executing": false
    }
   }
  },
  {
   "cell_type": "code",
   "execution_count": 14,
   "outputs": [],
   "source": [
    "val_sortida = []\n",
    "k = 0\n",
    "for k in range(len(image_list)):\n",
    "    val_sortida.append(model.predict(final[k]))"
   ],
   "metadata": {
    "collapsed": false,
    "pycharm": {
     "name": "#%%\n",
     "is_executing": false
    }
   }
  },
  {
   "cell_type": "code",
   "execution_count": 15,
   "outputs": [],
   "source": [
    "readfile2 = os.path.join(path+\"/train/\",'annotation.txt')\n",
    "\n",
    "image_list2 = []\n",
    "labels2 = []\n",
    "f2 = open(readfile2, 'r')\n",
    "for line2 in f2:\n",
    "    image_lis2, label2 = line2[:-1].split('\\t')\n",
    "    image_list2.append(image_lis2)\n",
    "    labels2.append(label2)\n",
    "f2.close()"
   ],
   "metadata": {
    "collapsed": false,
    "pycharm": {
     "name": "#%%\n",
     "is_executing": false
    }
   }
  },
  {
   "cell_type": "code",
   "execution_count": 16,
   "outputs": [],
   "source": [
    "image_list2.pop(0)\n",
    "labels2.pop(0)\n",
    "dic2 = {}"
   ],
   "metadata": {
    "collapsed": false,
    "pycharm": {
     "name": "#%%\n",
     "is_executing": false
    }
   }
  },
  {
   "cell_type": "code",
   "execution_count": 17,
   "outputs": [],
   "source": [
    "for i2 in range(len(image_list2)): \n",
    "    dic2[image_list2[i2]] = labels2[i2]"
   ],
   "metadata": {
    "collapsed": false,
    "pycharm": {
     "name": "#%%\n",
     "is_executing": false
    }
   }
  },
  {
   "cell_type": "code",
   "execution_count": 18,
   "outputs": [],
   "source": [
    "image_list2.sort()"
   ],
   "metadata": {
    "collapsed": false,
    "pycharm": {
     "name": "#%%\n",
     "is_executing": false
    }
   }
  },
  {
   "cell_type": "code",
   "execution_count": 19,
   "outputs": [],
   "source": [
    "dic_test = {}\n",
    "k2 = 0\n",
    "for k2 in range(len(image_list2)): \n",
    "    dic_test[k2] = dic2[image_list2[k2]]"
   ],
   "metadata": {
    "collapsed": false,
    "pycharm": {
     "name": "#%%\n",
     "is_executing": false
    }
   }
  },
  {
   "cell_type": "code",
   "execution_count": 20,
   "outputs": [],
   "source": [
    "lista2 = []\n",
    "for image_name2 in image_list2:\n",
    "    lista2.append(os.path.join(path+\"/train/\",image_name2.rstrip()+'.jpg'))"
   ],
   "metadata": {
    "collapsed": false,
    "pycharm": {
     "name": "#%%\n",
     "is_executing": false
    }
   }
  },
  {
   "cell_type": "code",
   "execution_count": 21,
   "outputs": [],
   "source": [
    "i2=0\n",
    "imagen2 = []\n",
    "final2 = []\n",
    "for i2 in range(len(image_list2)):   \n",
    "    imagen2.append(image.load_img(lista2[i2], target_size=(224, 224)))\n",
    "    final2.append(image.img_to_array(imagen2[i2]))\n",
    "    final2[i2] = np.expand_dims(final2[i2], axis=0)\n",
    "    final2[i2] = preprocess_input(final2[i2])"
   ],
   "metadata": {
    "collapsed": false,
    "pycharm": {
     "name": "#%%\n",
     "is_executing": false
    }
   }
  },
  {
   "cell_type": "code",
   "execution_count": 22,
   "outputs": [],
   "source": [
    "train_sortida = []\n",
    "k2 = 0\n",
    "for k2 in range(len(image_list2)):\n",
    "    train_sortida.append(model.predict(final2[k2]))"
   ],
   "metadata": {
    "collapsed": false,
    "pycharm": {
     "name": "#%%\n",
     "is_executing": false
    }
   }
  },
  {
   "cell_type": "code",
   "execution_count": 23,
   "outputs": [],
   "source": [
    "descriptors_val = np.asarray(val_sortida)\n",
    "pickle.dump(descriptors_val, open(\"desc_VGG_val.p\", \"wb\"))"
   ],
   "metadata": {
    "collapsed": false,
    "pycharm": {
     "name": "#%%\n",
     "is_executing": false
    }
   }
  },
  {
   "cell_type": "code",
   "execution_count": 24,
   "outputs": [],
   "source": [
    "descriptors_val = np.asarray(train_sortida)\n",
    "pickle.dump(descriptors_val, open(\"desc_VGG_train.p\", \"wb\"))"
   ],
   "metadata": {
    "collapsed": false,
    "pycharm": {
     "name": "#%%\n",
     "is_executing": false
    }
   }
  },
  {
   "cell_type": "code",
   "execution_count": 25,
   "outputs": [],
   "source": [
    "pickle.dump(imagen, open(\"imagen_VGG.p\", \"wb\"))"
   ],
   "metadata": {
    "collapsed": false,
    "pycharm": {
     "name": "#%%\n",
     "is_executing": false
    }
   }
  },
  {
   "cell_type": "code",
   "execution_count": 26,
   "outputs": [],
   "source": [
    "pickle.dump(imagen2, open(\"imagen2_VGG.p\", \"wb\"))"
   ],
   "metadata": {
    "collapsed": false,
    "pycharm": {
     "name": "#%%\n",
     "is_executing": false
    }
   }
  }
 ],
 "metadata": {
  "kernelspec": {
   "display_name": "Python 3",
   "language": "python",
   "name": "python3"
  },
  "language_info": {
   "codemirror_mode": {
    "name": "ipython",
    "version": 2
   },
   "file_extension": ".py",
   "mimetype": "text/x-python",
   "name": "python",
   "nbconvert_exporter": "python",
   "pygments_lexer": "ipython2",
   "version": "2.7.6"
  },
  "pycharm": {
   "stem_cell": {
    "cell_type": "raw",
    "source": [],
    "metadata": {
     "collapsed": false
    }
   }
  }
 },
 "nbformat": 4,
 "nbformat_minor": 0
}